{
 "cells": [
  {
   "cell_type": "code",
   "execution_count": 6,
   "id": "2f1b3b6c-6e35-4617-ad6e-80f11d8bea6b",
   "metadata": {},
   "outputs": [
    {
     "ename": "TypeError",
     "evalue": "'TracePeakLadderAssigner' object is not callable",
     "output_type": "error",
     "traceback": [
      "\u001b[1;31m---------------------------------------------------------------------------\u001b[0m",
      "\u001b[1;31mTypeError\u001b[0m                                 Traceback (most recent call last)",
      "Cell \u001b[1;32mIn[6], line 8\u001b[0m\n\u001b[0;32m      4\u001b[0m trace_obj \u001b[39m=\u001b[39m Path(\u001b[39m\"\u001b[39m\u001b[39mdemo/4071_Dx 230113_PRT1_PRT3_rn/PRT3_NA18507_4071_D11_Dx.fsa\u001b[39m\u001b[39m\"\u001b[39m)\n\u001b[0;32m      6\u001b[0m assigner \u001b[39m=\u001b[39m TracePeakLadderAssigner(\u001b[39m\"\u001b[39m\u001b[39mLIZ\u001b[39m\u001b[39m\"\u001b[39m)\n\u001b[1;32m----> 8\u001b[0m assign_ladder \u001b[39m=\u001b[39m assigner(trace_obj)\n\u001b[0;32m     12\u001b[0m \u001b[39m# peak_area = PeakArea(\u001b[39;00m\n\u001b[0;32m     13\u001b[0m \u001b[39m#     laddermap.adjusted_step_dataframe(),\u001b[39;00m\n\u001b[0;32m     14\u001b[0m \u001b[39m#     start=190, \u001b[39;00m\n\u001b[1;32m   (...)\u001b[0m\n\u001b[0;32m     19\u001b[0m \u001b[39m# peak_area.plot_peak_widths()\u001b[39;00m\n\u001b[0;32m     20\u001b[0m \u001b[39m# peak_area.calculate_peak_area(function=\"trapz\")\u001b[39;00m\n",
      "\u001b[1;31mTypeError\u001b[0m: 'TracePeakLadderAssigner' object is not callable"
     ]
    }
   ],
   "source": [
    "from pathlib import Path\n",
    "from fragment_analyzer.ladder_map import TracePeakLadderAssigner  \n",
    "\n",
    "trace_obj = Path(\"demo/4071_Dx 230113_PRT1_PRT3_rn/PRT3_NA18507_4071_D11_Dx.fsa\")\n",
    "\n",
    "assigner = TracePeakLadderAssigner(\"LIZ\")\n",
    "\n",
    "assign_ladder = assigner.assign_ladder_peak_sizes(trace_obj)\n",
    "\n",
    "\n",
    "\n",
    "# peak_area = PeakArea(\n",
    "#     laddermap.adjusted_step_dataframe(),\n",
    "#     start=190, \n",
    "#     end=200,\n",
    "#     rel_height=.97\n",
    "# )\n",
    "\n",
    "# peak_area.plot_peak_widths()\n",
    "# peak_area.calculate_peak_area(function=\"trapz\")"
   ]
  }
 ],
 "metadata": {
  "kernelspec": {
   "display_name": "venv",
   "language": "python",
   "name": "python3"
  },
  "language_info": {
   "codemirror_mode": {
    "name": "ipython",
    "version": 3
   },
   "file_extension": ".py",
   "mimetype": "text/x-python",
   "name": "python",
   "nbconvert_exporter": "python",
   "pygments_lexer": "ipython3",
   "version": "3.11.1"
  },
  "vscode": {
   "interpreter": {
    "hash": "7ff7e271392882c8e5c2c4cf0c40dc0305dd005deeb452c7d2a317b1fd67198a"
   }
  }
 },
 "nbformat": 4,
 "nbformat_minor": 5
}
